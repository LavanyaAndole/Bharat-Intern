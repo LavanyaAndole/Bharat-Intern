{
 "cells": [
  {
   "cell_type": "markdown",
   "id": "85f62c29",
   "metadata": {},
   "source": [
    "<h3><center>TASK-1"
   ]
  },
  {
   "cell_type": "markdown",
   "id": "036a78d6",
   "metadata": {},
   "source": [
    "**Task Name**: Stock Prediction  \n",
    "**Domain**:Data Science  \n",
    "**Batch**: August  "
   ]
  },
  {
   "cell_type": "markdown",
   "id": "2a6e77a0",
   "metadata": {},
   "source": [
    "**Aim**:To Predicts Stock price by using LSTM."
   ]
  },
  {
   "cell_type": "markdown",
   "id": "1a4b9d07",
   "metadata": {},
   "source": [
    "#### Dataset Description:\n",
    "1.The date - **\"Date\"**  \n",
    "2.The opening price of the stock - **\"Open\"**  \n",
    "3.The high price of that day - **\"High\"**  \n",
    "4.The low price of that day - **\"Low\"**  \n",
    "5.The closed price of that day - **\"Close\"**  \n",
    "6.The amount of stocks traded during that day - **\"Volume\"**  \n",
    "7.The stock's closing price that has been amended to include any distributions/corporate actions that occurs before next days open - **\"Adj[usted] Close\"**  "
   ]
  },
  {
   "cell_type": "markdown",
   "id": "1fb4269a",
   "metadata": {},
   "source": [
    "## Long Short Term Memory:  \n",
    "Long Short-Term Memory (LSTM) is a type of Recurrent Neural Network (RNN) that is specifically designed to handle sequential data, such as time series, speech, and text. LSTM networks are capable of learning long-term dependencies in sequential data, which makes them well suited for tasks such as language translation, speech recognition, and time series forecasting.  \n",
    "A traditional RNN has a single hidden state that is passed through time, which can make it difficult for the network to learn long-term dependencies. LSTMs address this problem by introducing a memory cell, which is a container that can hold information for an extended period of time. The memory cell is controlled by three gates: the input gate, the forget gate, and the output gate. These gates decide what information to add to, remove from, and output from the memory cell.  "
   ]
  },
  {
   "cell_type": "code",
   "execution_count": 1,
   "id": "6b6f3bcd",
   "metadata": {},
   "outputs": [
    {
     "name": "stderr",
     "output_type": "stream",
     "text": [
      "C:\\ProgramData\\Anaconda3\\lib\\site-packages\\scipy\\__init__.py:146: UserWarning: A NumPy version >=1.16.5 and <1.23.0 is required for this version of SciPy (detected version 1.24.3\n",
      "  warnings.warn(f\"A NumPy version >={np_minversion} and <{np_maxversion}\"\n"
     ]
    }
   ],
   "source": [
    "import numpy as np\n",
    "import pandas as pd\n",
    "import matplotlib.pyplot as plt\n",
    "import seaborn as sns\n",
    "import pylab\n",
    "import warnings\n",
    "warnings.filterwarnings(\"ignore\")"
   ]
  },
  {
   "cell_type": "markdown",
   "id": "07281f12",
   "metadata": {},
   "source": [
    "#### LSTM Models"
   ]
  },
  {
   "cell_type": "code",
   "execution_count": 2,
   "id": "b439213f",
   "metadata": {},
   "outputs": [],
   "source": [
    "import tensorflow as tf"
   ]
  },
  {
   "cell_type": "code",
   "execution_count": 3,
   "id": "5118e0ca",
   "metadata": {},
   "outputs": [
    {
     "data": {
      "text/plain": [
       "'2.13.0'"
      ]
     },
     "execution_count": 3,
     "metadata": {},
     "output_type": "execute_result"
    }
   ],
   "source": [
    "tf.__version__"
   ]
  },
  {
   "cell_type": "code",
   "execution_count": 4,
   "id": "28ab7de5",
   "metadata": {},
   "outputs": [],
   "source": [
    "from tensorflow.keras.models import Sequential\n",
    "from tensorflow.keras.layers import Dense\n",
    "from tensorflow.keras.layers import LSTM\n",
    "from tensorflow.keras.callbacks import EarlyStopping"
   ]
  },
  {
   "cell_type": "code",
   "execution_count": 5,
   "id": "ac5e6203",
   "metadata": {},
   "outputs": [
    {
     "data": {
      "text/html": [
       "<div>\n",
       "<style scoped>\n",
       "    .dataframe tbody tr th:only-of-type {\n",
       "        vertical-align: middle;\n",
       "    }\n",
       "\n",
       "    .dataframe tbody tr th {\n",
       "        vertical-align: top;\n",
       "    }\n",
       "\n",
       "    .dataframe thead th {\n",
       "        text-align: right;\n",
       "    }\n",
       "</style>\n",
       "<table border=\"1\" class=\"dataframe\">\n",
       "  <thead>\n",
       "    <tr style=\"text-align: right;\">\n",
       "      <th></th>\n",
       "      <th>Date</th>\n",
       "      <th>Open</th>\n",
       "      <th>High</th>\n",
       "      <th>Low</th>\n",
       "      <th>Close</th>\n",
       "      <th>Volume</th>\n",
       "      <th>Adj Close</th>\n",
       "    </tr>\n",
       "  </thead>\n",
       "  <tbody>\n",
       "    <tr>\n",
       "      <th>0</th>\n",
       "      <td>6/29/2010</td>\n",
       "      <td>19.000000</td>\n",
       "      <td>25.000000</td>\n",
       "      <td>17.540001</td>\n",
       "      <td>23.889999</td>\n",
       "      <td>18766300</td>\n",
       "      <td>23.889999</td>\n",
       "    </tr>\n",
       "    <tr>\n",
       "      <th>1</th>\n",
       "      <td>6/30/2010</td>\n",
       "      <td>25.790001</td>\n",
       "      <td>30.420000</td>\n",
       "      <td>23.299999</td>\n",
       "      <td>23.830000</td>\n",
       "      <td>17187100</td>\n",
       "      <td>23.830000</td>\n",
       "    </tr>\n",
       "    <tr>\n",
       "      <th>2</th>\n",
       "      <td>07-01-2010</td>\n",
       "      <td>25.000000</td>\n",
       "      <td>25.920000</td>\n",
       "      <td>20.270000</td>\n",
       "      <td>21.959999</td>\n",
       "      <td>8218800</td>\n",
       "      <td>21.959999</td>\n",
       "    </tr>\n",
       "    <tr>\n",
       "      <th>3</th>\n",
       "      <td>07-02-2010</td>\n",
       "      <td>23.000000</td>\n",
       "      <td>23.100000</td>\n",
       "      <td>18.709999</td>\n",
       "      <td>19.200001</td>\n",
       "      <td>5139800</td>\n",
       "      <td>19.200001</td>\n",
       "    </tr>\n",
       "    <tr>\n",
       "      <th>4</th>\n",
       "      <td>07-06-2010</td>\n",
       "      <td>20.000000</td>\n",
       "      <td>20.000000</td>\n",
       "      <td>15.830000</td>\n",
       "      <td>16.110001</td>\n",
       "      <td>6866900</td>\n",
       "      <td>16.110001</td>\n",
       "    </tr>\n",
       "    <tr>\n",
       "      <th>...</th>\n",
       "      <td>...</td>\n",
       "      <td>...</td>\n",
       "      <td>...</td>\n",
       "      <td>...</td>\n",
       "      <td>...</td>\n",
       "      <td>...</td>\n",
       "      <td>...</td>\n",
       "    </tr>\n",
       "    <tr>\n",
       "      <th>1687</th>\n",
       "      <td>3/13/2017</td>\n",
       "      <td>244.820007</td>\n",
       "      <td>246.850006</td>\n",
       "      <td>242.779999</td>\n",
       "      <td>246.169998</td>\n",
       "      <td>3010700</td>\n",
       "      <td>246.169998</td>\n",
       "    </tr>\n",
       "    <tr>\n",
       "      <th>1688</th>\n",
       "      <td>3/14/2017</td>\n",
       "      <td>246.110001</td>\n",
       "      <td>258.119995</td>\n",
       "      <td>246.020004</td>\n",
       "      <td>258.000000</td>\n",
       "      <td>7575500</td>\n",
       "      <td>258.000000</td>\n",
       "    </tr>\n",
       "    <tr>\n",
       "      <th>1689</th>\n",
       "      <td>3/15/2017</td>\n",
       "      <td>257.000000</td>\n",
       "      <td>261.000000</td>\n",
       "      <td>254.270004</td>\n",
       "      <td>255.729996</td>\n",
       "      <td>4816600</td>\n",
       "      <td>255.729996</td>\n",
       "    </tr>\n",
       "    <tr>\n",
       "      <th>1690</th>\n",
       "      <td>3/16/2017</td>\n",
       "      <td>262.399994</td>\n",
       "      <td>265.750000</td>\n",
       "      <td>259.059998</td>\n",
       "      <td>262.049988</td>\n",
       "      <td>7100400</td>\n",
       "      <td>262.049988</td>\n",
       "    </tr>\n",
       "    <tr>\n",
       "      <th>1691</th>\n",
       "      <td>3/17/2017</td>\n",
       "      <td>264.000000</td>\n",
       "      <td>265.329987</td>\n",
       "      <td>261.200012</td>\n",
       "      <td>261.500000</td>\n",
       "      <td>6475900</td>\n",
       "      <td>261.500000</td>\n",
       "    </tr>\n",
       "  </tbody>\n",
       "</table>\n",
       "<p>1692 rows × 7 columns</p>\n",
       "</div>"
      ],
      "text/plain": [
       "            Date        Open        High         Low       Close    Volume  \\\n",
       "0      6/29/2010   19.000000   25.000000   17.540001   23.889999  18766300   \n",
       "1      6/30/2010   25.790001   30.420000   23.299999   23.830000  17187100   \n",
       "2     07-01-2010   25.000000   25.920000   20.270000   21.959999   8218800   \n",
       "3     07-02-2010   23.000000   23.100000   18.709999   19.200001   5139800   \n",
       "4     07-06-2010   20.000000   20.000000   15.830000   16.110001   6866900   \n",
       "...          ...         ...         ...         ...         ...       ...   \n",
       "1687   3/13/2017  244.820007  246.850006  242.779999  246.169998   3010700   \n",
       "1688   3/14/2017  246.110001  258.119995  246.020004  258.000000   7575500   \n",
       "1689   3/15/2017  257.000000  261.000000  254.270004  255.729996   4816600   \n",
       "1690   3/16/2017  262.399994  265.750000  259.059998  262.049988   7100400   \n",
       "1691   3/17/2017  264.000000  265.329987  261.200012  261.500000   6475900   \n",
       "\n",
       "       Adj Close  \n",
       "0      23.889999  \n",
       "1      23.830000  \n",
       "2      21.959999  \n",
       "3      19.200001  \n",
       "4      16.110001  \n",
       "...          ...  \n",
       "1687  246.169998  \n",
       "1688  258.000000  \n",
       "1689  255.729996  \n",
       "1690  262.049988  \n",
       "1691  261.500000  \n",
       "\n",
       "[1692 rows x 7 columns]"
      ]
     },
     "execution_count": 5,
     "metadata": {},
     "output_type": "execute_result"
    }
   ],
   "source": [
    "tesla=pd.read_csv(\"tesla.csv\")\n",
    "tesla"
   ]
  },
  {
   "cell_type": "code",
   "execution_count": 6,
   "id": "12ad7285",
   "metadata": {},
   "outputs": [
    {
     "data": {
      "text/html": [
       "<div>\n",
       "<style scoped>\n",
       "    .dataframe tbody tr th:only-of-type {\n",
       "        vertical-align: middle;\n",
       "    }\n",
       "\n",
       "    .dataframe tbody tr th {\n",
       "        vertical-align: top;\n",
       "    }\n",
       "\n",
       "    .dataframe thead th {\n",
       "        text-align: right;\n",
       "    }\n",
       "</style>\n",
       "<table border=\"1\" class=\"dataframe\">\n",
       "  <thead>\n",
       "    <tr style=\"text-align: right;\">\n",
       "      <th></th>\n",
       "      <th>Date</th>\n",
       "      <th>Open</th>\n",
       "      <th>High</th>\n",
       "      <th>Low</th>\n",
       "      <th>Close</th>\n",
       "      <th>Volume</th>\n",
       "      <th>Adj Close</th>\n",
       "    </tr>\n",
       "  </thead>\n",
       "  <tbody>\n",
       "    <tr>\n",
       "      <th>0</th>\n",
       "      <td>6/29/2010</td>\n",
       "      <td>19.000000</td>\n",
       "      <td>25.00</td>\n",
       "      <td>17.540001</td>\n",
       "      <td>23.889999</td>\n",
       "      <td>18766300</td>\n",
       "      <td>23.889999</td>\n",
       "    </tr>\n",
       "    <tr>\n",
       "      <th>1</th>\n",
       "      <td>6/30/2010</td>\n",
       "      <td>25.790001</td>\n",
       "      <td>30.42</td>\n",
       "      <td>23.299999</td>\n",
       "      <td>23.830000</td>\n",
       "      <td>17187100</td>\n",
       "      <td>23.830000</td>\n",
       "    </tr>\n",
       "    <tr>\n",
       "      <th>2</th>\n",
       "      <td>07-01-2010</td>\n",
       "      <td>25.000000</td>\n",
       "      <td>25.92</td>\n",
       "      <td>20.270000</td>\n",
       "      <td>21.959999</td>\n",
       "      <td>8218800</td>\n",
       "      <td>21.959999</td>\n",
       "    </tr>\n",
       "    <tr>\n",
       "      <th>3</th>\n",
       "      <td>07-02-2010</td>\n",
       "      <td>23.000000</td>\n",
       "      <td>23.10</td>\n",
       "      <td>18.709999</td>\n",
       "      <td>19.200001</td>\n",
       "      <td>5139800</td>\n",
       "      <td>19.200001</td>\n",
       "    </tr>\n",
       "    <tr>\n",
       "      <th>4</th>\n",
       "      <td>07-06-2010</td>\n",
       "      <td>20.000000</td>\n",
       "      <td>20.00</td>\n",
       "      <td>15.830000</td>\n",
       "      <td>16.110001</td>\n",
       "      <td>6866900</td>\n",
       "      <td>16.110001</td>\n",
       "    </tr>\n",
       "  </tbody>\n",
       "</table>\n",
       "</div>"
      ],
      "text/plain": [
       "         Date       Open   High        Low      Close    Volume  Adj Close\n",
       "0   6/29/2010  19.000000  25.00  17.540001  23.889999  18766300  23.889999\n",
       "1   6/30/2010  25.790001  30.42  23.299999  23.830000  17187100  23.830000\n",
       "2  07-01-2010  25.000000  25.92  20.270000  21.959999   8218800  21.959999\n",
       "3  07-02-2010  23.000000  23.10  18.709999  19.200001   5139800  19.200001\n",
       "4  07-06-2010  20.000000  20.00  15.830000  16.110001   6866900  16.110001"
      ]
     },
     "execution_count": 6,
     "metadata": {},
     "output_type": "execute_result"
    }
   ],
   "source": [
    "tesla.head()"
   ]
  },
  {
   "cell_type": "code",
   "execution_count": 7,
   "id": "c598f4fb",
   "metadata": {},
   "outputs": [
    {
     "data": {
      "text/html": [
       "<div>\n",
       "<style scoped>\n",
       "    .dataframe tbody tr th:only-of-type {\n",
       "        vertical-align: middle;\n",
       "    }\n",
       "\n",
       "    .dataframe tbody tr th {\n",
       "        vertical-align: top;\n",
       "    }\n",
       "\n",
       "    .dataframe thead th {\n",
       "        text-align: right;\n",
       "    }\n",
       "</style>\n",
       "<table border=\"1\" class=\"dataframe\">\n",
       "  <thead>\n",
       "    <tr style=\"text-align: right;\">\n",
       "      <th></th>\n",
       "      <th>Date</th>\n",
       "      <th>Open</th>\n",
       "      <th>High</th>\n",
       "      <th>Low</th>\n",
       "      <th>Close</th>\n",
       "      <th>Volume</th>\n",
       "      <th>Adj Close</th>\n",
       "    </tr>\n",
       "  </thead>\n",
       "  <tbody>\n",
       "    <tr>\n",
       "      <th>1687</th>\n",
       "      <td>3/13/2017</td>\n",
       "      <td>244.820007</td>\n",
       "      <td>246.850006</td>\n",
       "      <td>242.779999</td>\n",
       "      <td>246.169998</td>\n",
       "      <td>3010700</td>\n",
       "      <td>246.169998</td>\n",
       "    </tr>\n",
       "    <tr>\n",
       "      <th>1688</th>\n",
       "      <td>3/14/2017</td>\n",
       "      <td>246.110001</td>\n",
       "      <td>258.119995</td>\n",
       "      <td>246.020004</td>\n",
       "      <td>258.000000</td>\n",
       "      <td>7575500</td>\n",
       "      <td>258.000000</td>\n",
       "    </tr>\n",
       "    <tr>\n",
       "      <th>1689</th>\n",
       "      <td>3/15/2017</td>\n",
       "      <td>257.000000</td>\n",
       "      <td>261.000000</td>\n",
       "      <td>254.270004</td>\n",
       "      <td>255.729996</td>\n",
       "      <td>4816600</td>\n",
       "      <td>255.729996</td>\n",
       "    </tr>\n",
       "    <tr>\n",
       "      <th>1690</th>\n",
       "      <td>3/16/2017</td>\n",
       "      <td>262.399994</td>\n",
       "      <td>265.750000</td>\n",
       "      <td>259.059998</td>\n",
       "      <td>262.049988</td>\n",
       "      <td>7100400</td>\n",
       "      <td>262.049988</td>\n",
       "    </tr>\n",
       "    <tr>\n",
       "      <th>1691</th>\n",
       "      <td>3/17/2017</td>\n",
       "      <td>264.000000</td>\n",
       "      <td>265.329987</td>\n",
       "      <td>261.200012</td>\n",
       "      <td>261.500000</td>\n",
       "      <td>6475900</td>\n",
       "      <td>261.500000</td>\n",
       "    </tr>\n",
       "  </tbody>\n",
       "</table>\n",
       "</div>"
      ],
      "text/plain": [
       "           Date        Open        High         Low       Close   Volume  \\\n",
       "1687  3/13/2017  244.820007  246.850006  242.779999  246.169998  3010700   \n",
       "1688  3/14/2017  246.110001  258.119995  246.020004  258.000000  7575500   \n",
       "1689  3/15/2017  257.000000  261.000000  254.270004  255.729996  4816600   \n",
       "1690  3/16/2017  262.399994  265.750000  259.059998  262.049988  7100400   \n",
       "1691  3/17/2017  264.000000  265.329987  261.200012  261.500000  6475900   \n",
       "\n",
       "       Adj Close  \n",
       "1687  246.169998  \n",
       "1688  258.000000  \n",
       "1689  255.729996  \n",
       "1690  262.049988  \n",
       "1691  261.500000  "
      ]
     },
     "execution_count": 7,
     "metadata": {},
     "output_type": "execute_result"
    }
   ],
   "source": [
    "tesla.tail()"
   ]
  },
  {
   "cell_type": "code",
   "execution_count": 8,
   "id": "7050e464",
   "metadata": {},
   "outputs": [
    {
     "data": {
      "text/plain": [
       "(1692, 7)"
      ]
     },
     "execution_count": 8,
     "metadata": {},
     "output_type": "execute_result"
    }
   ],
   "source": [
    "tesla.shape"
   ]
  },
  {
   "cell_type": "code",
   "execution_count": 9,
   "id": "27ab9b37",
   "metadata": {},
   "outputs": [
    {
     "data": {
      "text/html": [
       "<div>\n",
       "<style scoped>\n",
       "    .dataframe tbody tr th:only-of-type {\n",
       "        vertical-align: middle;\n",
       "    }\n",
       "\n",
       "    .dataframe tbody tr th {\n",
       "        vertical-align: top;\n",
       "    }\n",
       "\n",
       "    .dataframe thead th {\n",
       "        text-align: right;\n",
       "    }\n",
       "</style>\n",
       "<table border=\"1\" class=\"dataframe\">\n",
       "  <thead>\n",
       "    <tr style=\"text-align: right;\">\n",
       "      <th></th>\n",
       "      <th>Open</th>\n",
       "      <th>High</th>\n",
       "      <th>Low</th>\n",
       "      <th>Close</th>\n",
       "      <th>Volume</th>\n",
       "      <th>Adj Close</th>\n",
       "    </tr>\n",
       "  </thead>\n",
       "  <tbody>\n",
       "    <tr>\n",
       "      <th>count</th>\n",
       "      <td>1692.000000</td>\n",
       "      <td>1692.000000</td>\n",
       "      <td>1692.000000</td>\n",
       "      <td>1692.000000</td>\n",
       "      <td>1.692000e+03</td>\n",
       "      <td>1692.000000</td>\n",
       "    </tr>\n",
       "    <tr>\n",
       "      <th>mean</th>\n",
       "      <td>132.441572</td>\n",
       "      <td>134.769698</td>\n",
       "      <td>129.996223</td>\n",
       "      <td>132.428658</td>\n",
       "      <td>4.270741e+06</td>\n",
       "      <td>132.428658</td>\n",
       "    </tr>\n",
       "    <tr>\n",
       "      <th>std</th>\n",
       "      <td>94.309923</td>\n",
       "      <td>95.694914</td>\n",
       "      <td>92.855227</td>\n",
       "      <td>94.313187</td>\n",
       "      <td>4.295971e+06</td>\n",
       "      <td>94.313187</td>\n",
       "    </tr>\n",
       "    <tr>\n",
       "      <th>min</th>\n",
       "      <td>16.139999</td>\n",
       "      <td>16.629999</td>\n",
       "      <td>14.980000</td>\n",
       "      <td>15.800000</td>\n",
       "      <td>1.185000e+05</td>\n",
       "      <td>15.800000</td>\n",
       "    </tr>\n",
       "    <tr>\n",
       "      <th>25%</th>\n",
       "      <td>30.000000</td>\n",
       "      <td>30.650000</td>\n",
       "      <td>29.215000</td>\n",
       "      <td>29.884999</td>\n",
       "      <td>1.194350e+06</td>\n",
       "      <td>29.884999</td>\n",
       "    </tr>\n",
       "    <tr>\n",
       "      <th>50%</th>\n",
       "      <td>156.334999</td>\n",
       "      <td>162.370002</td>\n",
       "      <td>153.150002</td>\n",
       "      <td>158.160004</td>\n",
       "      <td>3.180700e+06</td>\n",
       "      <td>158.160004</td>\n",
       "    </tr>\n",
       "    <tr>\n",
       "      <th>75%</th>\n",
       "      <td>220.557495</td>\n",
       "      <td>224.099999</td>\n",
       "      <td>217.119999</td>\n",
       "      <td>220.022503</td>\n",
       "      <td>5.662100e+06</td>\n",
       "      <td>220.022503</td>\n",
       "    </tr>\n",
       "    <tr>\n",
       "      <th>max</th>\n",
       "      <td>287.670013</td>\n",
       "      <td>291.420013</td>\n",
       "      <td>280.399994</td>\n",
       "      <td>286.040009</td>\n",
       "      <td>3.716390e+07</td>\n",
       "      <td>286.040009</td>\n",
       "    </tr>\n",
       "  </tbody>\n",
       "</table>\n",
       "</div>"
      ],
      "text/plain": [
       "              Open         High          Low        Close        Volume  \\\n",
       "count  1692.000000  1692.000000  1692.000000  1692.000000  1.692000e+03   \n",
       "mean    132.441572   134.769698   129.996223   132.428658  4.270741e+06   \n",
       "std      94.309923    95.694914    92.855227    94.313187  4.295971e+06   \n",
       "min      16.139999    16.629999    14.980000    15.800000  1.185000e+05   \n",
       "25%      30.000000    30.650000    29.215000    29.884999  1.194350e+06   \n",
       "50%     156.334999   162.370002   153.150002   158.160004  3.180700e+06   \n",
       "75%     220.557495   224.099999   217.119999   220.022503  5.662100e+06   \n",
       "max     287.670013   291.420013   280.399994   286.040009  3.716390e+07   \n",
       "\n",
       "         Adj Close  \n",
       "count  1692.000000  \n",
       "mean    132.428658  \n",
       "std      94.313187  \n",
       "min      15.800000  \n",
       "25%      29.884999  \n",
       "50%     158.160004  \n",
       "75%     220.022503  \n",
       "max     286.040009  "
      ]
     },
     "execution_count": 9,
     "metadata": {},
     "output_type": "execute_result"
    }
   ],
   "source": [
    "##summary of the dataset\n",
    "tesla.describe()"
   ]
  },
  {
   "cell_type": "code",
   "execution_count": 10,
   "id": "a17f684a",
   "metadata": {},
   "outputs": [
    {
     "name": "stdout",
     "output_type": "stream",
     "text": [
      "<class 'pandas.core.frame.DataFrame'>\n",
      "RangeIndex: 1692 entries, 0 to 1691\n",
      "Data columns (total 7 columns):\n",
      " #   Column     Non-Null Count  Dtype  \n",
      "---  ------     --------------  -----  \n",
      " 0   Date       1692 non-null   object \n",
      " 1   Open       1692 non-null   float64\n",
      " 2   High       1692 non-null   float64\n",
      " 3   Low        1692 non-null   float64\n",
      " 4   Close      1692 non-null   float64\n",
      " 5   Volume     1692 non-null   int64  \n",
      " 6   Adj Close  1692 non-null   float64\n",
      "dtypes: float64(5), int64(1), object(1)\n",
      "memory usage: 92.7+ KB\n"
     ]
    }
   ],
   "source": [
    "tesla.info()"
   ]
  },
  {
   "cell_type": "code",
   "execution_count": 11,
   "id": "fba371d2",
   "metadata": {},
   "outputs": [
    {
     "data": {
      "text/plain": [
       "float64    5\n",
       "object     1\n",
       "int64      1\n",
       "dtype: int64"
      ]
     },
     "execution_count": 11,
     "metadata": {},
     "output_type": "execute_result"
    }
   ],
   "source": [
    "tesla.dtypes.value_counts()"
   ]
  },
  {
   "cell_type": "code",
   "execution_count": 12,
   "id": "dcd85ab7",
   "metadata": {},
   "outputs": [
    {
     "data": {
      "text/plain": [
       "Date         0\n",
       "Open         0\n",
       "High         0\n",
       "Low          0\n",
       "Close        0\n",
       "Volume       0\n",
       "Adj Close    0\n",
       "dtype: int64"
      ]
     },
     "execution_count": 12,
     "metadata": {},
     "output_type": "execute_result"
    }
   ],
   "source": [
    "#checking null values\n",
    "tesla.isnull().sum()"
   ]
  },
  {
   "cell_type": "code",
   "execution_count": 13,
   "id": "ea95520d",
   "metadata": {},
   "outputs": [
    {
     "data": {
      "text/plain": [
       "Index(['Date', 'Open', 'High', 'Low', 'Close', 'Volume', 'Adj Close'], dtype='object')"
      ]
     },
     "execution_count": 13,
     "metadata": {},
     "output_type": "execute_result"
    }
   ],
   "source": [
    "tesla.columns"
   ]
  },
  {
   "cell_type": "code",
   "execution_count": 14,
   "id": "f8e92ec0",
   "metadata": {},
   "outputs": [],
   "source": [
    "tesla1=tesla.reset_index()['Close']"
   ]
  },
  {
   "cell_type": "code",
   "execution_count": 15,
   "id": "1bdbd5c3",
   "metadata": {},
   "outputs": [
    {
     "data": {
      "text/plain": [
       "0        23.889999\n",
       "1        23.830000\n",
       "2        21.959999\n",
       "3        19.200001\n",
       "4        16.110001\n",
       "           ...    \n",
       "1687    246.169998\n",
       "1688    258.000000\n",
       "1689    255.729996\n",
       "1690    262.049988\n",
       "1691    261.500000\n",
       "Name: Close, Length: 1692, dtype: float64"
      ]
     },
     "execution_count": 15,
     "metadata": {},
     "output_type": "execute_result"
    }
   ],
   "source": [
    "tesla1"
   ]
  },
  {
   "cell_type": "code",
   "execution_count": 16,
   "id": "ac394707",
   "metadata": {},
   "outputs": [
    {
     "data": {
      "text/plain": [
       "[<matplotlib.lines.Line2D at 0x2039ba09340>]"
      ]
     },
     "execution_count": 16,
     "metadata": {},
     "output_type": "execute_result"
    },
    {
     "data": {
      "image/png": "[encoded data removed]",
      "text/plain": [
       "<Figure size 432x288 with 1 Axes>"
      ]
     },
     "metadata": {
      "needs_background": "light"
     },
     "output_type": "display_data"
    }
   ],
   "source": [
    "plt.plot(tesla1)"
   ]
  },
  {
   "cell_type": "markdown",
   "id": "05b479a5",
   "metadata": {},
   "source": [
    "#### Normalizing the Data-Using MinMaxscaler"
   ]
  },
  {
   "cell_type": "code",
   "execution_count": 17,
   "id": "45d18252",
   "metadata": {},
   "outputs": [
    {
     "data": {
      "text/plain": [
       "array([[0.02993635],\n",
       "       [0.02971433],\n",
       "       [0.02279455],\n",
       "       ...,\n",
       "       [0.88784039],\n",
       "       [0.91122698],\n",
       "       [0.9091918 ]])"
      ]
     },
     "execution_count": 17,
     "metadata": {},
     "output_type": "execute_result"
    }
   ],
   "source": [
    "from sklearn.preprocessing import MinMaxScaler\n",
    "scaler=MinMaxScaler(feature_range=(0,1))\n",
    "tesla1=scaler.fit_transform(np.array(tesla1).reshape(-1,1))\n",
    "tesla1"
   ]
  },
  {
   "cell_type": "code",
   "execution_count": 18,
   "id": "92c4b066",
   "metadata": {},
   "outputs": [
    {
     "data": {
      "text/plain": [
       "(1692, 1)"
      ]
     },
     "execution_count": 18,
     "metadata": {},
     "output_type": "execute_result"
    }
   ],
   "source": [
    "tesla1.shape"
   ]
  },
  {
   "cell_type": "markdown",
   "id": "d1b5456e",
   "metadata": {},
   "source": [
    "#### Preprocessing the Data-Splitting data into training and testing dataset"
   ]
  },
  {
   "cell_type": "code",
   "execution_count": 19,
   "id": "adfb43fe",
   "metadata": {},
   "outputs": [],
   "source": [
    "train_size=int(len(tesla1)*0.70)\n",
    "test_size=len(tesla1)-train_size\n",
    "train_data,test_data=tesla1[0:train_size,:],tesla1[train_size:len(tesla1),:1]"
   ]
  },
  {
   "cell_type": "code",
   "execution_count": 20,
   "id": "a18de68a",
   "metadata": {},
   "outputs": [
    {
     "data": {
      "text/plain": [
       "(1184, 508)"
      ]
     },
     "execution_count": 20,
     "metadata": {},
     "output_type": "execute_result"
    }
   ],
   "source": [
    "train_size,test_size"
   ]
  },
  {
   "cell_type": "code",
   "execution_count": 21,
   "id": "d96cecf8",
   "metadata": {},
   "outputs": [
    {
     "data": {
      "text/plain": [
       "array([[0.02993635],\n",
       "       [0.02971433],\n",
       "       [0.02279455],\n",
       "       ...,\n",
       "       [0.64579633],\n",
       "       [0.65845174],\n",
       "       [0.64857164]])"
      ]
     },
     "execution_count": 21,
     "metadata": {},
     "output_type": "execute_result"
    }
   ],
   "source": [
    "train_data"
   ]
  },
  {
   "cell_type": "code",
   "execution_count": 22,
   "id": "9e3bcc08",
   "metadata": {},
   "outputs": [],
   "source": [
    "##convert an array of values into a dataset matrix\n",
    "def create_dtset(dtset,time_step=1):\n",
    "    X,Y=[],[]\n",
    "    for i in range(len(dtset)-time_step-1):\n",
    "        a=dtset[i:(i+time_step),0]\n",
    "        X.append(a)\n",
    "        Y.append(dtset[i+time_step,0])\n",
    "    return np.array(X),np.array(Y)"
   ]
  },
  {
   "cell_type": "code",
   "execution_count": 23,
   "id": "2b2c8971",
   "metadata": {},
   "outputs": [],
   "source": [
    "#reshape into X=t,t=t+1,t+2,t+3 and Y=t+4\n",
    "time_step=100\n",
    "xtrain,ytrain=create_dtset(train_data,time_step)\n",
    "xtest,ytest=create_dtset(test_data,time_step)"
   ]
  },
  {
   "cell_type": "code",
   "execution_count": 24,
   "id": "98e3fa00",
   "metadata": {},
   "outputs": [
    {
     "data": {
      "text/plain": [
       "array([[0.02993635, 0.02971433, 0.02279455, ..., 0.05550621, 0.05132475,\n",
       "        0.05065867],\n",
       "       [0.02971433, 0.02279455, 0.01258141, ..., 0.05132475, 0.05065867,\n",
       "        0.05213883],\n",
       "       [0.02279455, 0.01258141, 0.00114713, ..., 0.05065867, 0.05213883,\n",
       "        0.05620929],\n",
       "       ...,\n",
       "       [0.77260949, 0.78174952, 0.79151861, ..., 0.69064534, 0.6839476 ,\n",
       "        0.6589698 ],\n",
       "       [0.78174952, 0.79151861, 0.77912226, ..., 0.6839476 , 0.6589698 ,\n",
       "        0.64786856],\n",
       "       [0.79151861, 0.77912226, 0.78330369, ..., 0.6589698 , 0.64786856,\n",
       "        0.64579633]])"
      ]
     },
     "execution_count": 24,
     "metadata": {},
     "output_type": "execute_result"
    }
   ],
   "source": [
    "xtrain"
   ]
  },
  {
   "cell_type": "code",
   "execution_count": 25,
   "id": "a06f1fb3",
   "metadata": {},
   "outputs": [
    {
     "data": {
      "text/plain": [
       "((1083, 100), (1083,))"
      ]
     },
     "execution_count": 25,
     "metadata": {},
     "output_type": "execute_result"
    }
   ],
   "source": [
    "xtrain.shape,ytrain.shape"
   ]
  },
  {
   "cell_type": "code",
   "execution_count": 26,
   "id": "b9e1db3f",
   "metadata": {},
   "outputs": [
    {
     "data": {
      "text/plain": [
       "((407, 100), (407,))"
      ]
     },
     "execution_count": 26,
     "metadata": {},
     "output_type": "execute_result"
    }
   ],
   "source": [
    "xtest.shape,ytest.shape"
   ]
  },
  {
   "cell_type": "markdown",
   "id": "9471a091",
   "metadata": {},
   "source": [
    "**Reshaping input to be [samples,timesteps,features] which is required for LSTM**"
   ]
  },
  {
   "cell_type": "code",
   "execution_count": 27,
   "id": "673967ab",
   "metadata": {},
   "outputs": [],
   "source": [
    "x_train=xtrain.reshape(xtrain.shape[0],xtrain.shape[1],1)\n",
    "x_test=xtest.reshape(xtest.shape[0],xtest.shape[1],1)"
   ]
  },
  {
   "cell_type": "code",
   "execution_count": 28,
   "id": "88819e18",
   "metadata": {},
   "outputs": [],
   "source": [
    "model=Sequential()\n",
    "model.add(LSTM(280,return_sequences=True,input_shape=(100,1)))\n",
    "model.add(LSTM(160,return_sequences=True))\n",
    "model.add(LSTM(50))\n",
    "model.add(Dense(1))\n",
    "model.compile(loss='mse',optimizer='adam',metrics=['mae'])"
   ]
  },
  {
   "cell_type": "markdown",
   "id": "5e12aab4",
   "metadata": {},
   "source": [
    "### Model Fitting"
   ]
  },
  {
   "cell_type": "code",
   "execution_count": 29,
   "id": "952d0769",
   "metadata": {},
   "outputs": [
    {
     "name": "stdout",
     "output_type": "stream",
     "text": [
      "Epoch 1/50\n",
      "9/9 [==============================] - 28s 2s/step - loss: 0.0427 - mae: 0.1341 - val_loss: 0.0128 - val_mae: 0.0993\n",
      "Epoch 2/50\n",
      "9/9 [==============================] - 15s 2s/step - loss: 0.0044 - mae: 0.0522 - val_loss: 0.0121 - val_mae: 0.0966\n",
      "Epoch 3/50\n",
      "9/9 [==============================] - 15s 2s/step - loss: 0.0034 - mae: 0.0400 - val_loss: 0.0045 - val_mae: 0.0529\n",
      "Epoch 4/50\n",
      "9/9 [==============================] - 16s 2s/step - loss: 0.0019 - mae: 0.0255 - val_loss: 0.0032 - val_mae: 0.0452\n",
      "Epoch 5/50\n",
      "9/9 [==============================] - 16s 2s/step - loss: 0.0017 - mae: 0.0263 - val_loss: 0.0034 - val_mae: 0.0467\n",
      "Epoch 6/50\n",
      "9/9 [==============================] - 16s 2s/step - loss: 0.0014 - mae: 0.0231 - val_loss: 0.0031 - val_mae: 0.0443\n",
      "Epoch 7/50\n",
      "9/9 [==============================] - 16s 2s/step - loss: 0.0014 - mae: 0.0228 - val_loss: 0.0031 - val_mae: 0.0444\n",
      "Epoch 8/50\n",
      "9/9 [==============================] - 16s 2s/step - loss: 0.0014 - mae: 0.0228 - val_loss: 0.0029 - val_mae: 0.0434\n",
      "Epoch 9/50\n",
      "9/9 [==============================] - 16s 2s/step - loss: 0.0013 - mae: 0.0222 - val_loss: 0.0029 - val_mae: 0.0429\n",
      "Epoch 10/50\n",
      "9/9 [==============================] - 16s 2s/step - loss: 0.0013 - mae: 0.0221 - val_loss: 0.0030 - val_mae: 0.0438\n",
      "Epoch 11/50\n",
      "9/9 [==============================] - 15s 2s/step - loss: 0.0014 - mae: 0.0230 - val_loss: 0.0033 - val_mae: 0.0456\n",
      "Epoch 12/50\n",
      "9/9 [==============================] - 16s 2s/step - loss: 0.0014 - mae: 0.0225 - val_loss: 0.0029 - val_mae: 0.0426\n",
      "Epoch 13/50\n",
      "9/9 [==============================] - 16s 2s/step - loss: 0.0012 - mae: 0.0216 - val_loss: 0.0026 - val_mae: 0.0411\n",
      "Epoch 14/50\n",
      "9/9 [==============================] - 16s 2s/step - loss: 0.0012 - mae: 0.0215 - val_loss: 0.0026 - val_mae: 0.0412\n",
      "Epoch 15/50\n",
      "9/9 [==============================] - 16s 2s/step - loss: 0.0012 - mae: 0.0218 - val_loss: 0.0025 - val_mae: 0.0400\n",
      "Epoch 16/50\n",
      "9/9 [==============================] - 16s 2s/step - loss: 0.0012 - mae: 0.0212 - val_loss: 0.0024 - val_mae: 0.0396\n",
      "Epoch 17/50\n",
      "9/9 [==============================] - 16s 2s/step - loss: 0.0012 - mae: 0.0220 - val_loss: 0.0024 - val_mae: 0.0402\n",
      "Epoch 18/50\n",
      "9/9 [==============================] - 16s 2s/step - loss: 0.0013 - mae: 0.0216 - val_loss: 0.0031 - val_mae: 0.0463\n",
      "Epoch 19/50\n",
      "9/9 [==============================] - 16s 2s/step - loss: 0.0012 - mae: 0.0218 - val_loss: 0.0022 - val_mae: 0.0387\n",
      "Epoch 20/50\n",
      "9/9 [==============================] - 16s 2s/step - loss: 0.0011 - mae: 0.0208 - val_loss: 0.0022 - val_mae: 0.0377\n",
      "Epoch 21/50\n",
      "9/9 [==============================] - 16s 2s/step - loss: 0.0011 - mae: 0.0206 - val_loss: 0.0023 - val_mae: 0.0376\n",
      "Epoch 22/50\n",
      "9/9 [==============================] - 15s 2s/step - loss: 0.0011 - mae: 0.0208 - val_loss: 0.0023 - val_mae: 0.0392\n",
      "Epoch 23/50\n",
      "9/9 [==============================] - 16s 2s/step - loss: 0.0010 - mae: 0.0205 - val_loss: 0.0020 - val_mae: 0.0364\n",
      "Epoch 24/50\n",
      "9/9 [==============================] - 16s 2s/step - loss: 0.0011 - mae: 0.0205 - val_loss: 0.0023 - val_mae: 0.0374\n",
      "Epoch 25/50\n",
      "9/9 [==============================] - 16s 2s/step - loss: 0.0010 - mae: 0.0206 - val_loss: 0.0026 - val_mae: 0.0417\n",
      "Epoch 26/50\n",
      "9/9 [==============================] - 16s 2s/step - loss: 0.0014 - mae: 0.0224 - val_loss: 0.0020 - val_mae: 0.0360\n",
      "Epoch 27/50\n",
      "9/9 [==============================] - 16s 2s/step - loss: 0.0012 - mae: 0.0210 - val_loss: 0.0025 - val_mae: 0.0388\n",
      "Epoch 28/50\n",
      "9/9 [==============================] - 21s 2s/step - loss: 0.0011 - mae: 0.0206 - val_loss: 0.0019 - val_mae: 0.0351\n",
      "Epoch 29/50\n",
      "9/9 [==============================] - 17s 2s/step - loss: 0.0010 - mae: 0.0204 - val_loss: 0.0020 - val_mae: 0.0365\n",
      "Epoch 30/50\n",
      "9/9 [==============================] - 16s 2s/step - loss: 9.5544e-04 - mae: 0.0194 - val_loss: 0.0018 - val_mae: 0.0345\n",
      "Epoch 31/50\n",
      "9/9 [==============================] - 16s 2s/step - loss: 9.2108e-04 - mae: 0.0191 - val_loss: 0.0021 - val_mae: 0.0370\n",
      "Epoch 32/50\n",
      "9/9 [==============================] - 16s 2s/step - loss: 9.3022e-04 - mae: 0.0193 - val_loss: 0.0018 - val_mae: 0.0336\n",
      "Epoch 33/50\n",
      "9/9 [==============================] - 16s 2s/step - loss: 9.4068e-04 - mae: 0.0195 - val_loss: 0.0018 - val_mae: 0.0336\n",
      "Epoch 34/50\n",
      "9/9 [==============================] - 16s 2s/step - loss: 9.0060e-04 - mae: 0.0188 - val_loss: 0.0017 - val_mae: 0.0329\n",
      "Epoch 35/50\n",
      "9/9 [==============================] - 16s 2s/step - loss: 9.5968e-04 - mae: 0.0197 - val_loss: 0.0030 - val_mae: 0.0453\n",
      "Epoch 36/50\n",
      "9/9 [==============================] - 16s 2s/step - loss: 9.8896e-04 - mae: 0.0195 - val_loss: 0.0017 - val_mae: 0.0321\n",
      "Epoch 37/50\n",
      "9/9 [==============================] - 16s 2s/step - loss: 9.2747e-04 - mae: 0.0195 - val_loss: 0.0020 - val_mae: 0.0365\n",
      "Epoch 38/50\n",
      "9/9 [==============================] - 16s 2s/step - loss: 0.0012 - mae: 0.0211 - val_loss: 0.0020 - val_mae: 0.0369\n",
      "Epoch 39/50\n",
      "9/9 [==============================] - 16s 2s/step - loss: 0.0011 - mae: 0.0205 - val_loss: 0.0020 - val_mae: 0.0348\n",
      "Epoch 40/50\n",
      "9/9 [==============================] - 16s 2s/step - loss: 9.3296e-04 - mae: 0.0192 - val_loss: 0.0016 - val_mae: 0.0320\n",
      "Epoch 41/50\n",
      "9/9 [==============================] - 16s 2s/step - loss: 8.4292e-04 - mae: 0.0182 - val_loss: 0.0018 - val_mae: 0.0349\n",
      "Epoch 42/50\n",
      "9/9 [==============================] - 16s 2s/step - loss: 9.8667e-04 - mae: 0.0194 - val_loss: 0.0016 - val_mae: 0.0316\n",
      "Epoch 43/50\n",
      "9/9 [==============================] - 16s 2s/step - loss: 9.8799e-04 - mae: 0.0194 - val_loss: 0.0020 - val_mae: 0.0346\n",
      "Epoch 44/50\n",
      "9/9 [==============================] - 16s 2s/step - loss: 9.0232e-04 - mae: 0.0190 - val_loss: 0.0019 - val_mae: 0.0351\n",
      "Epoch 45/50\n",
      "9/9 [==============================] - 16s 2s/step - loss: 0.0011 - mae: 0.0204 - val_loss: 0.0018 - val_mae: 0.0342\n",
      "Epoch 46/50\n",
      "9/9 [==============================] - 16s 2s/step - loss: 8.8311e-04 - mae: 0.0188 - val_loss: 0.0021 - val_mae: 0.0356\n",
      "Epoch 47/50\n",
      "9/9 [==============================] - 16s 2s/step - loss: 8.7656e-04 - mae: 0.0184 - val_loss: 0.0017 - val_mae: 0.0334\n",
      "Epoch 48/50\n",
      "9/9 [==============================] - 16s 2s/step - loss: 8.0616e-04 - mae: 0.0178 - val_loss: 0.0016 - val_mae: 0.0316\n",
      "Epoch 49/50\n",
      "9/9 [==============================] - 16s 2s/step - loss: 7.8489e-04 - mae: 0.0176 - val_loss: 0.0017 - val_mae: 0.0321\n",
      "Epoch 50/50\n",
      "9/9 [==============================] - 16s 2s/step - loss: 8.0502e-04 - mae: 0.0175 - val_loss: 0.0015 - val_mae: 0.0302\n"
     ]
    }
   ],
   "source": [
    "history=model.fit(x_train,ytrain,validation_data=(x_test,ytest),epochs=50,batch_size=128,verbose=1)"
   ]
  },
  {
   "cell_type": "code",
   "execution_count": 30,
   "id": "f7e048d0",
   "metadata": {},
   "outputs": [
    {
     "data": {
      "image/png": "[encoded data removed]",
      "text/plain": [
       "<Figure size 432x288 with 1 Axes>"
      ]
     },
     "metadata": {
      "needs_background": "light"
     },
     "output_type": "display_data"
    }
   ],
   "source": [
    "plt.plot(history.history['loss'],label='train')\n",
    "plt.plot(history.history['val_loss'],label='test')\n",
    "plt.legend()\n",
    "plt.show()"
   ]
  },
  {
   "cell_type": "code",
   "execution_count": 31,
   "id": "f32b7bb9",
   "metadata": {},
   "outputs": [
    {
     "data": {
      "image/png": "[encoded data removed]",
      "text/plain": [
       "<Figure size 432x288 with 1 Axes>"
      ]
     },
     "metadata": {
      "needs_background": "light"
     },
     "output_type": "display_data"
    }
   ],
   "source": [
    "plt.plot(history.history['mae'],label='train')\n",
    "plt.plot(history.history['val_mae'],label='test')\n",
    "plt.legend()\n",
    "plt.show()"
   ]
  },
  {
   "cell_type": "markdown",
   "id": "f94846dc",
   "metadata": {},
   "source": [
    "#### Model Prediction"
   ]
  },
  {
   "cell_type": "code",
   "execution_count": 32,
   "id": "289c4cfe",
   "metadata": {},
   "outputs": [
    {
     "name": "stdout",
     "output_type": "stream",
     "text": [
      "34/34 [==============================] - 11s 270ms/step\n",
      "13/13 [==============================] - 3s 263ms/step\n"
     ]
    }
   ],
   "source": [
    "train_predict=model.predict(x_train)\n",
    "test_predict=model.predict(x_test)"
   ]
  },
  {
   "cell_type": "code",
   "execution_count": 33,
   "id": "3716f539",
   "metadata": {},
   "outputs": [],
   "source": [
    "trainpredict=scaler.inverse_transform(train_predict)\n",
    "testpredict=scaler.inverse_transform(test_predict)"
   ]
  },
  {
   "cell_type": "markdown",
   "id": "6ae5fb24",
   "metadata": {},
   "source": [
    "**RMSE performace score**"
   ]
  },
  {
   "cell_type": "code",
   "execution_count": 34,
   "id": "4eaab11b",
   "metadata": {},
   "outputs": [],
   "source": [
    "import math\n",
    "from sklearn.metrics import mean_squared_error"
   ]
  },
  {
   "cell_type": "markdown",
   "id": "c28c77ff",
   "metadata": {},
   "source": [
    "#### Train Data Root Mean Square Error(RMSE)"
   ]
  },
  {
   "cell_type": "code",
   "execution_count": 35,
   "id": "424e97d1",
   "metadata": {},
   "outputs": [
    {
     "name": "stdout",
     "output_type": "stream",
     "text": [
      "Train Score: 129.64 \n"
     ]
    }
   ],
   "source": [
    "train_score=math.sqrt(mean_squared_error(ytrain,trainpredict))\n",
    "print('Train Score: %.2f '%(train_score))"
   ]
  },
  {
   "cell_type": "markdown",
   "id": "55505ab9",
   "metadata": {},
   "source": [
    "#### Test Data Root Mean Square Error(RMSE)"
   ]
  },
  {
   "cell_type": "code",
   "execution_count": 36,
   "id": "5e087a06",
   "metadata": {},
   "outputs": [
    {
     "name": "stdout",
     "output_type": "stream",
     "text": [
      "Test_score: 219.33 \n"
     ]
    }
   ],
   "source": [
    "test_score=math.sqrt(mean_squared_error(ytest,testpredict))\n",
    "print('Test_score: %.2f '%(test_score))"
   ]
  },
  {
   "cell_type": "code",
   "execution_count": 37,
   "id": "fe00e1b8",
   "metadata": {},
   "outputs": [
    {
     "data": {
      "image/png": "[encoded data removed]",
      "text/plain": [
       "<Figure size 432x288 with 1 Axes>"
      ]
     },
     "metadata": {
      "needs_background": "light"
     },
     "output_type": "display_data"
    }
   ],
   "source": [
    "look_back=100\n",
    "trainPredictPlot = np.empty_like(tesla1)\n",
    "trainPredictPlot[:, :] = np.nan\n",
    "trainPredictPlot[look_back:len(trainpredict)+look_back, :] = trainpredict\n",
    "# shift test predictions for plotting\n",
    "testPredictPlot = np.empty_like(tesla1)\n",
    "testPredictPlot[:, :] = np.nan\n",
    "testPredictPlot[len(trainpredict)+(look_back*2)+1:len(tesla1)-1, :] = testpredict\n",
    "# plot baseline and predictions\n",
    "plt.plot(scaler.inverse_transform(tesla1))\n",
    "plt.plot(trainPredictPlot)\n",
    "plt.plot(testPredictPlot)\n",
    "plt.show()"
   ]
  },
  {
   "cell_type": "markdown",
   "id": "794454c6",
   "metadata": {},
   "source": [
    "#### Observation:\n",
    "1.Root Mean Squared Error(RMSE) of Train data is 129.64.  \n",
    "2.Root Mean Squared Error(RMSE) of Test Data is 219.33  \n",
    "3.The difference between RMSE of train data and test data is 90.  \n",
    "4.The above plot describes the actual value vs predicted time series.The part in Orange is the training data,the part in the blue is the test data,and the part in green is the predicted Output.  "
   ]
  },
  {
   "cell_type": "code",
   "execution_count": null,
   "id": "56d07ba9",
   "metadata": {},
   "outputs": [],
   "source": []
  },
  {
   "cell_type": "code",
   "execution_count": null,
   "id": "cf8ecafd",
   "metadata": {},
   "outputs": [],
   "source": []
  }
 ],
 "metadata": {
  "kernelspec": {
   "display_name": "Python 3 (ipykernel)",
   "language": "python",
   "name": "python3"
  },
  "language_info": {
   "codemirror_mode": {
    "name": "ipython",
    "version": 3
   },
   "file_extension": ".py",
   "mimetype": "text/x-python",
   "name": "python",
   "nbconvert_exporter": "python",
   "pygments_lexer": "ipython3",
   "version": "3.9.12"
  }
 },
 "nbformat": 4,
 "nbformat_minor": 5
}
